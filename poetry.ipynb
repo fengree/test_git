{
 "cells": [
  {
   "cell_type": "markdown",
   "metadata": {},
   "source": [
    "## 文本生成 - 藏头诗"
   ]
  },
  {
   "cell_type": "markdown",
   "metadata": {},
   "source": [
    "### 1. 导入依赖库"
   ]
  },
  {
   "cell_type": "code",
   "execution_count": 1,
   "metadata": {},
   "outputs": [],
   "source": [
    "import os\n",
    "import datetime\n",
    "import numpy as np\n",
    "import tensorflow as tf\n",
    "import matplotlib.pyplot as plt\n",
    "from sklearn.utils import shuffle"
   ]
  },
  {
   "cell_type": "markdown",
   "metadata": {},
   "source": [
    "### 2. 准备数据"
   ]
  },
  {
   "cell_type": "markdown",
   "metadata": {},
   "source": [
    "#### 2.1 加载原始数据"
   ]
  },
  {
   "cell_type": "code",
   "execution_count": 2,
   "metadata": {},
   "outputs": [
    {
     "name": "stdout",
     "output_type": "stream",
     "text": [
      "唐诗总数:  34646\n",
      "[长宜子孙。]\n",
      "[李下无蹊。]\n",
      "[罗钳吉网。]\n",
      "[常杂鲍帖。]\n",
      "[扬一益二。]\n",
      "[枫落吴江冷。]\n",
      "[人生分外愁。]\n",
      "[木末上明星。]\n",
      "[犬熟护邻房。]\n",
      "[兔子上金床。]\n"
     ]
    }
   ],
   "source": [
    "# 数据集路径\n",
    "poetry_file ='poetry.txt'  \n",
    "# 导入诗集  \n",
    "poetrys = []  \n",
    "with open(poetry_file, \"r\" , encoding = 'UTF-8') as f:  \n",
    "    for line in f:  \n",
    "        try:  \n",
    "            #line = line.decode('UTF-8')\n",
    "            line = line.strip(u'\\n')\n",
    "            title, content = line.strip(u' ').split(u':')  \n",
    "            content = content.replace(u' ',u'')  \n",
    "            if u'_' in content or u'(' in content or u'（' in content or u'《' in content or u'[' in content:  \n",
    "                continue  \n",
    "            if len(content) < 5 or len(content) > 79:  \n",
    "                continue  \n",
    "            content = u'[' + content + u']'  \n",
    "            poetrys.append(content)  \n",
    "        except Exception as e:   \n",
    "            pass  \n",
    "\n",
    "# 按诗的字数排序  \n",
    "poetrys = sorted(poetrys,key=lambda line: len(line))  \n",
    "print('唐诗总数: ', len(poetrys)) \n",
    "print('\\n'.join(poetrys[:10]))"
   ]
  },
  {
   "cell_type": "markdown",
   "metadata": {},
   "source": [
    "#### 2.2 构建词汇表"
   ]
  },
  {
   "cell_type": "code",
   "execution_count": 3,
   "metadata": {},
   "outputs": [
    {
     "name": "stdout",
     "output_type": "stream",
     "text": [
      "词汇表长度：6110\n",
      "字符-id 映射：\n",
      " '[PAD]':   0,\n",
      " '2' :   1,\n",
      " 'F' :   2,\n",
      " '[' :   3,\n",
      " ']' :   4,\n",
      " 'p' :   5,\n",
      " 'ē' :   6,\n",
      " 'ń' :   7,\n",
      " '□' :   8,\n",
      " '、' :   9,\n",
      " '。' :  10,\n",
      " '】' :  11,\n",
      " '一' :  12,\n",
      " '丁' :  13,\n",
      " '七' :  14,\n",
      " '万' :  15,\n",
      " '丈' :  16,\n",
      " '三' :  17,\n",
      " '上' :  18,\n",
      " '下' :  19,\n",
      "id-字符映射：\n",
      "id 为 10 对应的字符为：。\n"
     ]
    }
   ],
   "source": [
    "vocab = sorted(set([char for poe in poetrys for char in poe]))\n",
    "vocab.insert(0, \"[PAD]\")\n",
    "print ('词汇表长度：{}'.format(len(vocab)))\n",
    "char2int = {c:i for i, c in enumerate(vocab)}\n",
    "int2char = np.array(vocab)\n",
    "print('字符-id 映射：')\n",
    "for char,_ in zip(char2int, range(20)):\n",
    "    print(' {:4s}: {:3d},'.format(repr(char), char2int[char]))\n",
    "print('id-字符映射：')    \n",
    "print('id 为 10 对应的字符为：{}'.format(int2char[10]))"
   ]
  },
  {
   "cell_type": "code",
   "execution_count": 4,
   "metadata": {},
   "outputs": [
    {
     "name": "stdout",
     "output_type": "stream",
     "text": [
      "'[长宜子孙。]'\n",
      " mapped to integers:\n",
      " [3, 5459, 1108, 1070, 1076, 10, 4]\n"
     ]
    }
   ],
   "source": [
    "poetrys_as_int = [[char2int[char] for char in poetry] for poetry in poetrys]\n",
    "print ('{}\\n mapped to integers:\\n {}'.format(repr(poetrys[0]), poetrys_as_int[0]))"
   ]
  },
  {
   "cell_type": "markdown",
   "metadata": {},
   "source": [
    "#### 2.3 划分训练、验证集"
   ]
  },
  {
   "cell_type": "code",
   "execution_count": 5,
   "metadata": {},
   "outputs": [],
   "source": [
    "poetrys_shuffle = shuffle(poetrys_as_int, random_state=0)\n",
    "train_inputs = poetrys_shuffle[:28000]\n",
    "valid_inputs = poetrys_shuffle[28000:]"
   ]
  },
  {
   "cell_type": "markdown",
   "metadata": {},
   "source": [
    "#### 2.4 填充、转换成tf.data.Dataset"
   ]
  },
  {
   "cell_type": "code",
   "execution_count": 6,
   "metadata": {},
   "outputs": [
    {
     "name": "stdout",
     "output_type": "stream",
     "text": [
      "max length: 81\n"
     ]
    }
   ],
   "source": [
    "max_train = max([len(seq) for seq in train_inputs])\n",
    "print('max length: {}'.format(max_train))\n",
    "train_padded = tf.keras.preprocessing.sequence.pad_sequences(train_inputs, maxlen=max_train, padding='post', value=char2int['[PAD]'])\n",
    "valid_padded = tf.keras.preprocessing.sequence.pad_sequences(valid_inputs, maxlen=max_train, padding='post', value=char2int['[PAD]'])\n",
    "\n",
    "train_ds = tf.data.Dataset.from_tensor_slices(train_padded)\n",
    "valid_ds = tf.data.Dataset.from_tensor_slices(valid_padded)"
   ]
  },
  {
   "cell_type": "markdown",
   "metadata": {},
   "source": [
    "#### 2.5 输入、输出切分"
   ]
  },
  {
   "cell_type": "code",
   "execution_count": 7,
   "metadata": {},
   "outputs": [],
   "source": [
    "def split_input_target(seq):\n",
    "    inputs = seq[:-1]\n",
    "    targets = seq[1:]\n",
    "    return inputs, targets\n",
    "\n",
    "train_ds = train_ds.map(split_input_target).shuffle(buffer_size=10000).batch(batch_size=64, drop_remainder=True)\n",
    "valid_ds = valid_ds.map(split_input_target).shuffle(buffer_size=10000).batch(batch_size=64, drop_remainder=True)"
   ]
  },
  {
   "cell_type": "markdown",
   "metadata": {},
   "source": [
    "### 3. 模型训练"
   ]
  },
  {
   "cell_type": "markdown",
   "metadata": {},
   "source": [
    "#### 3.1 定义配置参数"
   ]
  },
  {
   "cell_type": "code",
   "execution_count": 8,
   "metadata": {},
   "outputs": [],
   "source": [
    "embedding_dim = 256\n",
    "rnn_units = 1024\n",
    "batch_size = 64\n",
    "vocab_size = len(vocab)"
   ]
  },
  {
   "cell_type": "markdown",
   "metadata": {},
   "source": [
    "#### 3.2 定义模型结构"
   ]
  },
  {
   "cell_type": "code",
   "execution_count": 9,
   "metadata": {},
   "outputs": [],
   "source": [
    "def build_model(vocab_size, embedding_dim, rnn_units, batch_size):\n",
    "    model = tf.keras.Sequential([\n",
    "        tf.keras.layers.Embedding(vocab_size, embedding_dim,\n",
    "                              batch_input_shape=[batch_size, None]),\n",
    "        tf.keras.layers.Dropout(0.2),\n",
    "        tf.keras.layers.LSTM(rnn_units,\n",
    "                        return_sequences=True,\n",
    "                        stateful=True,\n",
    "                        recurrent_initializer='glorot_uniform'),\n",
    "        tf.keras.layers.Dropout(0.2), \n",
    "        tf.keras.layers.LSTM(rnn_units,\n",
    "                        return_sequences=True,\n",
    "                        stateful=True,\n",
    "                        recurrent_initializer='glorot_uniform'),\n",
    "        tf.keras.layers.Dropout(0.2),\n",
    "        tf.keras.layers.Dense(vocab_size)\n",
    "    ])\n",
    "    return model"
   ]
  },
  {
   "cell_type": "code",
   "execution_count": 10,
   "metadata": {},
   "outputs": [],
   "source": [
    "model = build_model(vocab_size = vocab_size, embedding_dim=embedding_dim, rnn_units=rnn_units, batch_size=batch_size)"
   ]
  },
  {
   "cell_type": "code",
   "execution_count": 11,
   "metadata": {},
   "outputs": [
    {
     "name": "stdout",
     "output_type": "stream",
     "text": [
      "Model: \"sequential\"\n",
      "_________________________________________________________________\n",
      " Layer (type)                Output Shape              Param #   \n",
      "=================================================================\n",
      " embedding (Embedding)       (64, None, 256)           1564160   \n",
      "                                                                 \n",
      " dropout (Dropout)           (64, None, 256)           0         \n",
      "                                                                 \n",
      " lstm (LSTM)                 (64, None, 1024)          5246976   \n",
      "                                                                 \n",
      " dropout_1 (Dropout)         (64, None, 1024)          0         \n",
      "                                                                 \n",
      " lstm_1 (LSTM)               (64, None, 1024)          8392704   \n",
      "                                                                 \n",
      " dropout_2 (Dropout)         (64, None, 1024)          0         \n",
      "                                                                 \n",
      " dense (Dense)               (64, None, 6110)          6262750   \n",
      "                                                                 \n",
      "=================================================================\n",
      "Total params: 21,466,590\n",
      "Trainable params: 21,466,590\n",
      "Non-trainable params: 0\n",
      "_________________________________________________________________\n"
     ]
    }
   ],
   "source": [
    "model.summary()"
   ]
  },
  {
   "cell_type": "markdown",
   "metadata": {},
   "source": [
    "#### 3.3 训练前测试"
   ]
  },
  {
   "cell_type": "code",
   "execution_count": 12,
   "metadata": {},
   "outputs": [
    {
     "name": "stdout",
     "output_type": "stream",
     "text": [
      "(64, 80, 6110) respectively: batch_size, sequence_length, vocab_size\n"
     ]
    }
   ],
   "source": [
    "for input_example_batch, target_example_batch in train_ds.take(1):\n",
    "    example_batch_predictions = model(input_example_batch)\n",
    "    print(example_batch_predictions.shape, \"respectively: batch_size, sequence_length, vocab_size\")"
   ]
  },
  {
   "cell_type": "code",
   "execution_count": 13,
   "metadata": {},
   "outputs": [
    {
     "name": "stdout",
     "output_type": "stream",
     "text": [
      "Input: \n",
      " '[结宇依青嶂，开轩对绿畴。树交花两色，溪合水同流。竹径春来扫，兰尊夜不收。逍遥自得意，鼓腹醉中游。][PAD][PAD][PAD][PAD][PAD][PAD][PAD][PAD][PAD][PAD][PAD][PAD][PAD][PAD][PAD][PAD][PAD][PAD][PAD][PAD][PAD][PAD][PAD][PAD][PAD][PAD][PAD][PAD][PAD][PAD]'\n",
      "\n",
      "Predictions: \n",
      " '獯籝靖戺贴辕罂瞳逼恤蜦裁音倩曰怆祥战牂缎还携阜槐倩莨喟爪纨迒劲矰预躬猿靓漭踞买堰褧檠铜髑闉瘵迦涴咀岳嘿扆泛踬铪述旃拓坤铗斯综菱挂鳖煨痾诈患浪烟疼怵谡瀔累剪佑仰羑'\n"
     ]
    }
   ],
   "source": [
    "sampled_indices = tf.random.categorical(example_batch_predictions[0], num_samples=1)\n",
    "sampled_indices = tf.squeeze(sampled_indices, axis=-1).numpy()\n",
    "print(\"Input: \\n\", repr(\"\".join(int2char[input_example_batch[0]])))\n",
    "print()\n",
    "print(\"Predictions: \\n\", repr(\"\".join(int2char[sampled_indices ])))"
   ]
  },
  {
   "cell_type": "code",
   "execution_count": 14,
   "metadata": {},
   "outputs": [
    {
     "name": "stdout",
     "output_type": "stream",
     "text": [
      "Prediction shape:  (64, 80, 6110)  # (batch_size, sequence_length, vocab_size)\n",
      "Loss:       8.718245\n",
      "Accuracy:       0.0001953125\n"
     ]
    }
   ],
   "source": [
    "def loss(labels, logits):\n",
    "    return tf.keras.losses.sparse_categorical_crossentropy(labels, logits, from_logits=True)\n",
    "def accuracy(labels, logits):\n",
    "    return tf.keras.metrics.sparse_categorical_accuracy(labels, logits)\n",
    "\n",
    "example_batch_loss  = loss(target_example_batch, example_batch_predictions)\n",
    "example_batch_acc  = accuracy(target_example_batch, example_batch_predictions)\n",
    "print(\"Prediction shape: \", example_batch_predictions.shape, \" # (batch_size, sequence_length, vocab_size)\")\n",
    "print(\"Loss:      \", example_batch_loss.numpy().mean())\n",
    "print(\"Accuracy:      \", example_batch_acc.numpy().mean())"
   ]
  },
  {
   "cell_type": "markdown",
   "metadata": {},
   "source": [
    "#### 3.4 启动训练"
   ]
  },
  {
   "cell_type": "code",
   "execution_count": 15,
   "metadata": {},
   "outputs": [],
   "source": [
    "# 编译优化器及损失函数\n",
    "optimizer = tf.keras.optimizers.Adam() \n",
    "model.compile(optimizer=optimizer, loss=loss)"
   ]
  },
  {
   "cell_type": "code",
   "execution_count": 16,
   "metadata": {},
   "outputs": [],
   "source": [
    "# 定义 early stop 回调函数\n",
    "patience = 10\n",
    "early_stop = tf.keras.callbacks.EarlyStopping(monitor='val_loss', patience=patience)"
   ]
  },
  {
   "cell_type": "code",
   "execution_count": 17,
   "metadata": {},
   "outputs": [],
   "source": [
    "# 定义 checkpoint 回调函数\n",
    "checkpoint_prefix = './checkpoints/poetry_ckpt'\n",
    "checkpoint_callback=tf.keras.callbacks.ModelCheckpoint(\n",
    "    filepath=checkpoint_prefix,\n",
    "    save_weights_only=True,\n",
    "    save_best_only=True)"
   ]
  },
  {
   "cell_type": "code",
   "execution_count": 18,
   "metadata": {},
   "outputs": [
    {
     "name": "stdout",
     "output_type": "stream",
     "text": [
      "Epoch 1/50\n",
      "437/437 [==============================] - 84s 183ms/step - loss: 3.8863 - val_loss: 3.5090\n",
      "Epoch 2/50\n",
      "437/437 [==============================] - 82s 187ms/step - loss: 3.4172 - val_loss: 3.2947\n",
      "Epoch 3/50\n",
      "437/437 [==============================] - 87s 199ms/step - loss: 3.2411 - val_loss: 3.1808\n",
      "Epoch 4/50\n",
      "437/437 [==============================] - 89s 202ms/step - loss: 3.1354 - val_loss: 3.0894\n",
      "Epoch 5/50\n",
      "437/437 [==============================] - 91s 208ms/step - loss: 3.0353 - val_loss: 3.0084\n",
      "Epoch 6/50\n",
      "437/437 [==============================] - 100s 228ms/step - loss: 2.9481 - val_loss: 2.9430\n",
      "Epoch 7/50\n",
      "437/437 [==============================] - 97s 220ms/step - loss: 2.8718 - val_loss: 2.8903\n",
      "Epoch 8/50\n",
      "437/437 [==============================] - 98s 223ms/step - loss: 2.8055 - val_loss: 2.8515\n",
      "Epoch 9/50\n",
      "437/437 [==============================] - 97s 221ms/step - loss: 2.7458 - val_loss: 2.8173\n",
      "Epoch 10/50\n",
      "437/437 [==============================] - 99s 226ms/step - loss: 2.6907 - val_loss: 2.7906\n",
      "Epoch 11/50\n",
      "437/437 [==============================] - 95s 218ms/step - loss: 2.6397 - val_loss: 2.7690\n",
      "Epoch 12/50\n",
      "437/437 [==============================] - 95s 218ms/step - loss: 2.5914 - val_loss: 2.7582\n",
      "Epoch 13/50\n",
      "437/437 [==============================] - 96s 219ms/step - loss: 2.5462 - val_loss: 2.7418\n",
      "Epoch 14/50\n",
      "437/437 [==============================] - 94s 214ms/step - loss: 2.5023 - val_loss: 2.7380\n",
      "Epoch 15/50\n",
      "437/437 [==============================] - 92s 211ms/step - loss: 2.4615 - val_loss: 2.7299\n",
      "Epoch 16/50\n",
      "437/437 [==============================] - 92s 210ms/step - loss: 2.4210 - val_loss: 2.7300\n",
      "Epoch 17/50\n",
      "437/437 [==============================] - 93s 211ms/step - loss: 2.3831 - val_loss: 2.7278\n",
      "Epoch 18/50\n",
      "437/437 [==============================] - 92s 209ms/step - loss: 2.3471 - val_loss: 2.7305\n",
      "Epoch 19/50\n",
      "437/437 [==============================] - 92s 210ms/step - loss: 2.3121 - val_loss: 2.7305\n",
      "Epoch 20/50\n",
      "437/437 [==============================] - 93s 211ms/step - loss: 2.2781 - val_loss: 2.7368\n",
      "Epoch 21/50\n",
      "437/437 [==============================] - 93s 211ms/step - loss: 2.2469 - val_loss: 2.7426\n",
      "Epoch 22/50\n",
      "437/437 [==============================] - 93s 211ms/step - loss: 2.2170 - val_loss: 2.7456\n",
      "Epoch 23/50\n",
      "437/437 [==============================] - 98s 222ms/step - loss: 2.1869 - val_loss: 2.7517\n",
      "Epoch 24/50\n",
      "437/437 [==============================] - 98s 223ms/step - loss: 2.1581 - val_loss: 2.7599\n",
      "Epoch 25/50\n",
      "437/437 [==============================] - 92s 210ms/step - loss: 2.1324 - val_loss: 2.7642\n",
      "Epoch 26/50\n",
      "437/437 [==============================] - 92s 210ms/step - loss: 2.1065 - val_loss: 2.7769\n",
      "Epoch 27/50\n",
      "437/437 [==============================] - 92s 209ms/step - loss: 2.0818 - val_loss: 2.7820\n"
     ]
    }
   ],
   "source": [
    "history = model.fit(train_ds, epochs=50, callbacks=[checkpoint_callback, early_stop] , validation_data=valid_ds)"
   ]
  },
  {
   "cell_type": "markdown",
   "metadata": {},
   "source": [
    "#### 3.5 可视化损失变化"
   ]
  },
  {
   "cell_type": "code",
   "execution_count": 19,
   "metadata": {},
   "outputs": [
    {
     "data": {
      "image/png": "[encoded data removed]",
      "text/plain": [
       "<Figure size 1200x900 with 1 Axes>"
      ]
     },
     "metadata": {},
     "output_type": "display_data"
    }
   ],
   "source": [
    "plt.figure(figsize=(12,9))\n",
    "plt.plot(history.history['loss'], 'g')\n",
    "plt.plot(history.history['val_loss'], 'rx') #use if have val data\n",
    "plt.title('Model Loss')\n",
    "plt.ylabel('Loss')\n",
    "plt.xlabel('Epoch')\n",
    "plt.legend(['Train'], loc='upper right')\n",
    "plt.legend(['Train', 'Validation'], loc='upper right') #use if have val data\n",
    "plt.show()"
   ]
  },
  {
   "cell_type": "markdown",
   "metadata": {},
   "source": [
    "#### 3.6 训练后测试"
   ]
  },
  {
   "cell_type": "code",
   "execution_count": 20,
   "metadata": {},
   "outputs": [
    {
     "name": "stdout",
     "output_type": "stream",
     "text": [
      "Input: \n",
      " '[绮陌彤彤花照尘，王门侯邸尽朱轮。城南旧有山村路，欲向云霞觅主人。][PAD][PAD][PAD][PAD][PAD][PAD][PAD][PAD][PAD][PAD][PAD][PAD][PAD][PAD][PAD][PAD][PAD][PAD][PAD][PAD][PAD][PAD][PAD][PAD][PAD][PAD][PAD][PAD][PAD][PAD][PAD][PAD][PAD][PAD][PAD][PAD][PAD][PAD][PAD][PAD][PAD][PAD][PAD][PAD][PAD][PAD]'\n",
      "\n",
      "Predictions: \n",
      " '古霞不襜玉吐旗，明王开女昔琼轮。蓬荒红隐才河老，上别蓬山上世人。][PAD][PAD][PAD][PAD][PAD][PAD][PAD][PAD][PAD][PAD][PAD][PAD][PAD][PAD][PAD][PAD][PAD][PAD][PAD][PAD][PAD][PAD][PAD][PAD][PAD][PAD][PAD][PAD][PAD][PAD][PAD][PAD][PAD][PAD][PAD][PAD][PAD][PAD][PAD][PAD][PAD][PAD][PAD][PAD][PAD][PAD][PAD]'\n"
     ]
    }
   ],
   "source": [
    "for input_example_batch, target_example_batch in train_ds.take(1):\n",
    "    example_batch_predictions = model(input_example_batch)\n",
    "sampled_indices = tf.random.categorical(example_batch_predictions[0], num_samples=1)\n",
    "sampled_indices = tf.squeeze(sampled_indices, axis=-1).numpy()\n",
    "print(\"Input: \\n\", repr(\"\".join(int2char[input_example_batch[0]])))\n",
    "print()\n",
    "print(\"Predictions: \\n\", repr(\"\".join(int2char[sampled_indices ])))"
   ]
  },
  {
   "cell_type": "markdown",
   "metadata": {},
   "source": [
    "### 4. 推理测试"
   ]
  },
  {
   "cell_type": "markdown",
   "metadata": {},
   "source": [
    "#### 4.1 离线加载模型"
   ]
  },
  {
   "cell_type": "code",
   "execution_count": 21,
   "metadata": {},
   "outputs": [],
   "source": [
    "model = build_model(vocab_size, embedding_dim, rnn_units, batch_size=1)\n",
    "model.load_weights(checkpoint_prefix)  # 指定模型\n",
    "model.build(tf.TensorShape([1, None]))"
   ]
  },
  {
   "cell_type": "markdown",
   "metadata": {},
   "source": [
    "#### 4.2 定义推理测试函数"
   ]
  },
  {
   "cell_type": "code",
   "execution_count": 22,
   "metadata": {},
   "outputs": [],
   "source": [
    "def generate_poetry(model, head_string):\n",
    "    print(\"藏头诗生成中...., {}\".format(head_string))\n",
    "    poem = \"\"\n",
    "    for head in head_string:\n",
    "        if head not in char2int:\n",
    "            print(\"抱歉，不能生成以{}开头的诗\".format(head))\n",
    "            return\n",
    "        \n",
    "        sentence = head\n",
    "        max_sent_len = 20\n",
    "        \n",
    "        input_eval = [char2int[s] for s in '[' + head]\n",
    "        input_eval = tf.expand_dims(input_eval, 0)\n",
    "        \n",
    "        model.reset_states()\n",
    "        for i in range(max_sent_len):\n",
    "            predictions = model(input_eval)\n",
    "            predictions = tf.squeeze(predictions, 0)\n",
    "            predicted_id = tf.random.categorical(predictions, num_samples=1)[-1,0].numpy()\n",
    "            char_generated = int2char[predicted_id]\n",
    "            if char_generated == '。':\n",
    "                break\n",
    "            input_eval = tf.expand_dims([predicted_id], 0)\n",
    "            sentence += char_generated\n",
    "    \n",
    "        poem += '\\n' + sentence\n",
    "                \n",
    "    return poem          "
   ]
  },
  {
   "cell_type": "markdown",
   "metadata": {},
   "source": [
    "#### 4.3 测试藏头诗生成"
   ]
  },
  {
   "cell_type": "code",
   "execution_count": 26,
   "metadata": {},
   "outputs": [
    {
     "name": "stdout",
     "output_type": "stream",
     "text": [
      "藏头诗生成中...., 自然语言处理\n",
      "\n",
      "自两簪白了，斋栖客事同禅\n",
      "然顾岐路，春洲江上雪前\n",
      "语乐恐光辉\n",
      "言长吉彩难，祥景无容礼德馨\n",
      "处向岁边江南阔\n",
      "理念是非神\n"
     ]
    }
   ],
   "source": [
    "poetry = generate_poetry(model, \"自然语言处理\")\n",
    "print(poetry)"
   ]
  },
  {
   "cell_type": "code",
   "execution_count": null,
   "metadata": {},
   "outputs": [],
   "source": []
  }
 ],
 "metadata": {
  "kernelspec": {
   "display_name": "Python 3",
   "language": "python",
   "name": "python3"
  },
  "language_info": {
   "codemirror_mode": {
    "name": "ipython",
    "version": 3
   },
   "file_extension": ".py",
   "mimetype": "text/x-python",
   "name": "python",
   "nbconvert_exporter": "python",
   "pygments_lexer": "ipython3",
   "version": "3.9.15"
  }
 },
 "nbformat": 4,
 "nbformat_minor": 4
}
